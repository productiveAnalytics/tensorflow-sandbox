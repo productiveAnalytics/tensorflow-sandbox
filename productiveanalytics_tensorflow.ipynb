{
  "nbformat": 4,
  "nbformat_minor": 0,
  "metadata": {
    "colab": {
      "name": "productiveanalytics_tensorflow.ipynb",
      "version": "0.3.2",
      "provenance": [],
      "include_colab_link": true
    },
    "kernelspec": {
      "name": "python3",
      "display_name": "Python 3"
    }
  },
  "cells": [
    {
      "cell_type": "markdown",
      "metadata": {
        "id": "view-in-github",
        "colab_type": "text"
      },
      "source": [
        "<a href=\"https://colab.research.google.com/github/productiveAnalytics/tensorflow-sandbox/blob/master/productiveanalytics_tensorflow.ipynb\" target=\"_parent\"><img src=\"https://colab.research.google.com/assets/colab-badge.svg\" alt=\"Open In Colab\"/></a>"
      ]
    },
    {
      "metadata": {
        "id": "BNSdb8Crw_wN",
        "colab_type": "code",
        "colab": {
          "base_uri": "https://localhost:8080/",
          "height": 52
        },
        "outputId": "7835c72b-4a0d-4e03-adbe-b012ce369e2f"
      },
      "cell_type": "code",
      "source": [
        "import numpy as np\n",
        "import tensorflow as tf\n",
        "from tensorflow import keras\n",
        "\n",
        "xs = np.array([-2,-1,0,1,2,3,4,5], dtype=int)\n",
        "print(xs)\n",
        "ys = np.array([-5,-3,-1,1,3,5,7,9], dtype=int)\n",
        "print(ys)"
      ],
      "execution_count": 6,
      "outputs": [
        {
          "output_type": "stream",
          "text": [
            "[-2 -1  0  1  2  3  4  5]\n",
            "[-5 -3 -1  1  3  5  7  9]\n"
          ],
          "name": "stdout"
        }
      ]
    }
  ]
}