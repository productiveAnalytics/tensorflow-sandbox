{
  "nbformat": 4,
  "nbformat_minor": 0,
  "metadata": {
    "colab": {
      "name": "productiveanalytics_tensorflow.ipynb",
      "version": "0.3.2",
      "provenance": [],
      "include_colab_link": true
    },
    "kernelspec": {
      "name": "python3",
      "display_name": "Python 3"
    }
  },
  "cells": [
    {
      "cell_type": "markdown",
      "metadata": {
        "id": "view-in-github",
        "colab_type": "text"
      },
      "source": [
        "<a href=\"https://colab.research.google.com/github/productiveAnalytics/tensorflow-sandbox/blob/lab_1/productiveanalytics_tensorflow.ipynb\" target=\"_parent\"><img src=\"https://colab.research.google.com/assets/colab-badge.svg\" alt=\"Open In Colab\"/></a>"
      ]
    },
    {
      "metadata": {
        "id": "BNSdb8Crw_wN",
        "colab_type": "code",
        "outputId": "41debc32-1c34-4710-9631-517b5f0a8e11",
        "colab": {
          "base_uri": "https://localhost:8080/",
          "height": 51
        }
      },
      "cell_type": "code",
      "source": [
        "import numpy as np\n",
        "import tensorflow as tf\n",
        "from tensorflow import keras\n",
        "\n",
        "xs = np.array([-2,-1,0,1,2,3,4,5], dtype=float)\n",
        "print(xs)\n",
        "ys = np.array([-5,-3,-1,1,3,5,7,9], dtype=float)\n",
        "print(ys)"
      ],
      "execution_count": 9,
      "outputs": [
        {
          "output_type": "stream",
          "text": [
            "[-2. -1.  0.  1.  2.  3.  4.  5.]\n",
            "[-5. -3. -1.  1.  3.  5.  7.  9.]\n"
          ],
          "name": "stdout"
        }
      ]
    },
    {
      "metadata": {
        "id": "OLboSdyQKYAA",
        "colab_type": "code",
        "colab": {}
      },
      "cell_type": "code",
      "source": [
        "model = tf.keras.Sequential([keras.layers.Dense(units=1, input_shape=[1])])\n",
        "#print(model)"
      ],
      "execution_count": 0,
      "outputs": []
    },
    {
      "metadata": {
        "id": "S7JT53WsLgTz",
        "colab_type": "code",
        "colab": {}
      },
      "cell_type": "code",
      "source": [
        "# build model w/ Optimizer function and Loss functon\n",
        "model.compile(optimizer='sgd', loss='mean_squared_error')"
      ],
      "execution_count": 0,
      "outputs": []
    },
    {
      "metadata": {
        "id": "9Q2ZsiblMKDX",
        "colab_type": "code",
        "colab": {
          "base_uri": "https://localhost:8080/",
          "height": 3434
        },
        "outputId": "503fa102-33fb-4b7a-aaf9-483bd0aa6712"
      },
      "cell_type": "code",
      "source": [
        "# epochs are tries to fit the model\n",
        "model.fit(xs, ys, epochs=100)"
      ],
      "execution_count": 14,
      "outputs": [
        {
          "output_type": "stream",
          "text": [
            "Epoch 1/100\n",
            "8/8 [==============================] - 0s 294us/sample - loss: 6.9669e-12\n",
            "Epoch 2/100\n",
            "8/8 [==============================] - 0s 241us/sample - loss: 6.9669e-12\n",
            "Epoch 3/100\n",
            "8/8 [==============================] - 0s 205us/sample - loss: 6.9669e-12\n",
            "Epoch 4/100\n",
            "8/8 [==============================] - 0s 296us/sample - loss: 6.9669e-12\n",
            "Epoch 5/100\n",
            "8/8 [==============================] - 0s 207us/sample - loss: 6.9669e-12\n",
            "Epoch 6/100\n",
            "8/8 [==============================] - 0s 150us/sample - loss: 6.9669e-12\n",
            "Epoch 7/100\n",
            "8/8 [==============================] - 0s 210us/sample - loss: 6.9669e-12\n",
            "Epoch 8/100\n",
            "8/8 [==============================] - 0s 194us/sample - loss: 6.9669e-12\n",
            "Epoch 9/100\n",
            "8/8 [==============================] - 0s 176us/sample - loss: 6.9669e-12\n",
            "Epoch 10/100\n",
            "8/8 [==============================] - 0s 155us/sample - loss: 6.9669e-12\n",
            "Epoch 11/100\n",
            "8/8 [==============================] - 0s 192us/sample - loss: 6.9669e-12\n",
            "Epoch 12/100\n",
            "8/8 [==============================] - 0s 245us/sample - loss: 6.9669e-12\n",
            "Epoch 13/100\n",
            "8/8 [==============================] - 0s 147us/sample - loss: 6.9669e-12\n",
            "Epoch 14/100\n",
            "8/8 [==============================] - 0s 116us/sample - loss: 6.9669e-12\n",
            "Epoch 15/100\n",
            "8/8 [==============================] - 0s 214us/sample - loss: 6.9669e-12\n",
            "Epoch 16/100\n",
            "8/8 [==============================] - 0s 165us/sample - loss: 6.9669e-12\n",
            "Epoch 17/100\n",
            "8/8 [==============================] - 0s 175us/sample - loss: 6.9669e-12\n",
            "Epoch 18/100\n",
            "8/8 [==============================] - 0s 160us/sample - loss: 6.9669e-12\n",
            "Epoch 19/100\n",
            "8/8 [==============================] - 0s 108us/sample - loss: 6.9669e-12\n",
            "Epoch 20/100\n",
            "8/8 [==============================] - 0s 149us/sample - loss: 6.9669e-12\n",
            "Epoch 21/100\n",
            "8/8 [==============================] - 0s 156us/sample - loss: 6.9669e-12\n",
            "Epoch 22/100\n",
            "8/8 [==============================] - 0s 115us/sample - loss: 6.9669e-12\n",
            "Epoch 23/100\n",
            "8/8 [==============================] - 0s 213us/sample - loss: 6.9669e-12\n",
            "Epoch 24/100\n",
            "8/8 [==============================] - 0s 256us/sample - loss: 6.9669e-12\n",
            "Epoch 25/100\n",
            "8/8 [==============================] - 0s 400us/sample - loss: 6.9669e-12\n",
            "Epoch 26/100\n",
            "8/8 [==============================] - 0s 128us/sample - loss: 6.9669e-12\n",
            "Epoch 27/100\n",
            "8/8 [==============================] - 0s 139us/sample - loss: 6.9669e-12\n",
            "Epoch 28/100\n",
            "8/8 [==============================] - 0s 355us/sample - loss: 6.9669e-12\n",
            "Epoch 29/100\n",
            "8/8 [==============================] - 0s 183us/sample - loss: 6.9669e-12\n",
            "Epoch 30/100\n",
            "8/8 [==============================] - 0s 171us/sample - loss: 6.9669e-12\n",
            "Epoch 31/100\n",
            "8/8 [==============================] - 0s 331us/sample - loss: 6.9669e-12\n",
            "Epoch 32/100\n",
            "8/8 [==============================] - 0s 161us/sample - loss: 6.9669e-12\n",
            "Epoch 33/100\n",
            "8/8 [==============================] - 0s 137us/sample - loss: 6.9669e-12\n",
            "Epoch 34/100\n",
            "8/8 [==============================] - 0s 113us/sample - loss: 6.9669e-12\n",
            "Epoch 35/100\n",
            "8/8 [==============================] - 0s 110us/sample - loss: 6.9669e-12\n",
            "Epoch 36/100\n",
            "8/8 [==============================] - 0s 133us/sample - loss: 6.9669e-12\n",
            "Epoch 37/100\n",
            "8/8 [==============================] - 0s 188us/sample - loss: 6.9669e-12\n",
            "Epoch 38/100\n",
            "8/8 [==============================] - 0s 126us/sample - loss: 6.9669e-12\n",
            "Epoch 39/100\n",
            "8/8 [==============================] - 0s 131us/sample - loss: 6.9669e-12\n",
            "Epoch 40/100\n",
            "8/8 [==============================] - 0s 208us/sample - loss: 6.9669e-12\n",
            "Epoch 41/100\n",
            "8/8 [==============================] - 0s 125us/sample - loss: 6.9669e-12\n",
            "Epoch 42/100\n",
            "8/8 [==============================] - 0s 133us/sample - loss: 6.9669e-12\n",
            "Epoch 43/100\n",
            "8/8 [==============================] - 0s 201us/sample - loss: 6.9669e-12\n",
            "Epoch 44/100\n",
            "8/8 [==============================] - 0s 131us/sample - loss: 6.9669e-12\n",
            "Epoch 45/100\n",
            "8/8 [==============================] - 0s 129us/sample - loss: 6.9669e-12\n",
            "Epoch 46/100\n",
            "8/8 [==============================] - 0s 179us/sample - loss: 6.9669e-12\n",
            "Epoch 47/100\n",
            "8/8 [==============================] - 0s 129us/sample - loss: 6.9669e-12\n",
            "Epoch 48/100\n",
            "8/8 [==============================] - 0s 129us/sample - loss: 6.9669e-12\n",
            "Epoch 49/100\n",
            "8/8 [==============================] - 0s 180us/sample - loss: 6.9669e-12\n",
            "Epoch 50/100\n",
            "8/8 [==============================] - 0s 110us/sample - loss: 6.9669e-12\n",
            "Epoch 51/100\n",
            "8/8 [==============================] - 0s 111us/sample - loss: 6.9669e-12\n",
            "Epoch 52/100\n",
            "8/8 [==============================] - 0s 174us/sample - loss: 6.9669e-12\n",
            "Epoch 53/100\n",
            "8/8 [==============================] - 0s 131us/sample - loss: 6.9669e-12\n",
            "Epoch 54/100\n",
            "8/8 [==============================] - 0s 132us/sample - loss: 6.9669e-12\n",
            "Epoch 55/100\n",
            "8/8 [==============================] - 0s 166us/sample - loss: 6.9669e-12\n",
            "Epoch 56/100\n",
            "8/8 [==============================] - 0s 124us/sample - loss: 6.9669e-12\n",
            "Epoch 57/100\n",
            "8/8 [==============================] - 0s 108us/sample - loss: 6.9669e-12\n",
            "Epoch 58/100\n",
            "8/8 [==============================] - 0s 130us/sample - loss: 6.9669e-12\n",
            "Epoch 59/100\n",
            "8/8 [==============================] - 0s 143us/sample - loss: 6.9669e-12\n",
            "Epoch 60/100\n",
            "8/8 [==============================] - 0s 131us/sample - loss: 6.9669e-12\n",
            "Epoch 61/100\n",
            "8/8 [==============================] - 0s 129us/sample - loss: 6.9669e-12\n",
            "Epoch 62/100\n",
            "8/8 [==============================] - 0s 183us/sample - loss: 6.9669e-12\n",
            "Epoch 63/100\n",
            "8/8 [==============================] - 0s 129us/sample - loss: 6.9669e-12\n",
            "Epoch 64/100\n",
            "8/8 [==============================] - 0s 110us/sample - loss: 6.9669e-12\n",
            "Epoch 65/100\n",
            "8/8 [==============================] - 0s 175us/sample - loss: 6.9669e-12\n",
            "Epoch 66/100\n",
            "8/8 [==============================] - 0s 132us/sample - loss: 6.9669e-12\n",
            "Epoch 67/100\n",
            "8/8 [==============================] - 0s 114us/sample - loss: 6.9669e-12\n",
            "Epoch 68/100\n",
            "8/8 [==============================] - 0s 177us/sample - loss: 6.9669e-12\n",
            "Epoch 69/100\n",
            "8/8 [==============================] - 0s 129us/sample - loss: 6.9669e-12\n",
            "Epoch 70/100\n",
            "8/8 [==============================] - 0s 108us/sample - loss: 6.9669e-12\n",
            "Epoch 71/100\n",
            "8/8 [==============================] - 0s 165us/sample - loss: 6.9669e-12\n",
            "Epoch 72/100\n",
            "8/8 [==============================] - 0s 130us/sample - loss: 6.9669e-12\n",
            "Epoch 73/100\n",
            "8/8 [==============================] - 0s 106us/sample - loss: 6.9669e-12\n",
            "Epoch 74/100\n",
            "8/8 [==============================] - 0s 188us/sample - loss: 6.9669e-12\n",
            "Epoch 75/100\n",
            "8/8 [==============================] - 0s 108us/sample - loss: 6.9669e-12\n",
            "Epoch 76/100\n",
            "8/8 [==============================] - 0s 112us/sample - loss: 6.9669e-12\n",
            "Epoch 77/100\n",
            "8/8 [==============================] - 0s 210us/sample - loss: 6.9669e-12\n",
            "Epoch 78/100\n",
            "8/8 [==============================] - 0s 107us/sample - loss: 6.9669e-12\n",
            "Epoch 79/100\n",
            "8/8 [==============================] - 0s 108us/sample - loss: 6.9669e-12\n",
            "Epoch 80/100\n",
            "8/8 [==============================] - 0s 142us/sample - loss: 6.9669e-12\n",
            "Epoch 81/100\n",
            "8/8 [==============================] - 0s 109us/sample - loss: 6.9669e-12\n",
            "Epoch 82/100\n",
            "8/8 [==============================] - 0s 140us/sample - loss: 6.9669e-12\n",
            "Epoch 83/100\n",
            "8/8 [==============================] - 0s 133us/sample - loss: 6.9669e-12\n",
            "Epoch 84/100\n",
            "8/8 [==============================] - 0s 128us/sample - loss: 6.9669e-12\n",
            "Epoch 85/100\n",
            "8/8 [==============================] - 0s 147us/sample - loss: 6.9669e-12\n",
            "Epoch 86/100\n",
            "8/8 [==============================] - 0s 129us/sample - loss: 6.9669e-12\n",
            "Epoch 87/100\n",
            "8/8 [==============================] - 0s 106us/sample - loss: 6.9669e-12\n",
            "Epoch 88/100\n",
            "8/8 [==============================] - 0s 224us/sample - loss: 6.9669e-12\n",
            "Epoch 89/100\n",
            "8/8 [==============================] - 0s 106us/sample - loss: 6.9669e-12\n",
            "Epoch 90/100\n",
            "8/8 [==============================] - 0s 129us/sample - loss: 6.9669e-12\n",
            "Epoch 91/100\n",
            "8/8 [==============================] - 0s 129us/sample - loss: 6.9669e-12\n",
            "Epoch 92/100\n",
            "8/8 [==============================] - 0s 130us/sample - loss: 6.9669e-12\n",
            "Epoch 93/100\n",
            "8/8 [==============================] - 0s 148us/sample - loss: 6.9669e-12\n",
            "Epoch 94/100\n",
            "8/8 [==============================] - 0s 112us/sample - loss: 6.9669e-12\n",
            "Epoch 95/100\n",
            "8/8 [==============================] - 0s 110us/sample - loss: 6.9669e-12\n",
            "Epoch 96/100\n",
            "8/8 [==============================] - 0s 178us/sample - loss: 6.9669e-12\n",
            "Epoch 97/100\n",
            "8/8 [==============================] - 0s 128us/sample - loss: 6.9669e-12\n",
            "Epoch 98/100\n",
            "8/8 [==============================] - 0s 108us/sample - loss: 6.9669e-12\n",
            "Epoch 99/100\n",
            "8/8 [==============================] - 0s 163us/sample - loss: 6.9669e-12\n",
            "Epoch 100/100\n",
            "8/8 [==============================] - 0s 109us/sample - loss: 6.9669e-12\n"
          ],
          "name": "stdout"
        },
        {
          "output_type": "execute_result",
          "data": {
            "text/plain": [
              "<tensorflow.python.keras.callbacks.History at 0x7f7000be1eb8>"
            ]
          },
          "metadata": {
            "tags": []
          },
          "execution_count": 14
        }
      ]
    },
    {
      "metadata": {
        "id": "HirPE_BAMpcY",
        "colab_type": "code",
        "colab": {
          "base_uri": "https://localhost:8080/",
          "height": 34
        },
        "outputId": "996203df-68bc-4421-ff9c-54f62401f3ce"
      },
      "cell_type": "code",
      "source": [
        "x_input = [10.0]\n",
        "y_output = model.predict(x_input)\n",
        "print('Predicted y=', y_output, ' for x=', x_input)"
      ],
      "execution_count": 16,
      "outputs": [
        {
          "output_type": "stream",
          "text": [
            "Predicted y= [[18.999994]]  for x= [10.0]\n"
          ],
          "name": "stdout"
        }
      ]
    }
  ]
}