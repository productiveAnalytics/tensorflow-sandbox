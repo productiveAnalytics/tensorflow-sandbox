{
  "nbformat": 4,
  "nbformat_minor": 0,
  "metadata": {
    "colab": {
      "name": "Exercise1-Answer.ipynb",
      "version": "0.3.2",
      "provenance": [],
      "collapsed_sections": []
    },
    "kernelspec": {
      "name": "python3",
      "display_name": "Python 3"
    },
    "accelerator": "TPU"
  },
  "cells": [
    {
      "metadata": {
        "id": "rEHcB3kqyHZ6",
        "colab_type": "code",
        "colab": {
          "base_uri": "https://localhost:8080/",
          "height": 701
        },
        "outputId": "220c8709-4ee7-4b40-b2d0-cc11bd6327b3"
      },
      "cell_type": "code",
      "source": [
        "import random\n",
        "import matplotlib.pyplot as plt\n",
        "import numpy as np\n",
        "import tensorflow as tf\n",
        "\n",
        "class myCallback(tf.keras.callbacks.Callback):\n",
        "  def on_epoch_end(self, epoch, logs={}):\n",
        "    if(logs.get('acc')>0.99):\n",
        "      print(\"\\nReached 99% accuracy so cancelling training!\")\n",
        "      self.model.stop_training = True\n",
        "\n",
        "mnist = tf.keras.datasets.mnist\n",
        "\n",
        "# load train and test data set : (image, digit)\n",
        "(img_train, dig_train),(img_test, dig_test) = mnist.load_data()\n",
        "\n",
        "# Normalize\n",
        "img_train, img_test = img_train / 255.0, img_test / 255.0\n",
        "\n",
        "callbacks = myCallback()\n",
        "\n",
        "model = tf.keras.models.Sequential([\n",
        "  tf.keras.layers.Flatten(input_shape=(28, 28)),\n",
        "  tf.keras.layers.Dense(512, activation=tf.nn.relu),\n",
        "  tf.keras.layers.Dense(10, activation=tf.nn.softmax)\n",
        "])\n",
        "model.compile(optimizer='adam',\n",
        "              loss='sparse_categorical_crossentropy',\n",
        "              metrics=['accuracy'])\n",
        "\n",
        "model.fit(img_train, dig_train, epochs=10, callbacks=[callbacks])\n",
        "\n",
        "# Test model\n",
        "model.evaluate(img_test, dig_test)\n",
        "\n",
        "digit_classification = model.predict(img_test)\n",
        "\n",
        "idx = random.randint(0, len(img_test))\n",
        "\n",
        "# Expected result\n",
        "expected_digit = dig_test[idx]\n",
        "print('Actual Digit =', expected_digit)\n",
        "print('Actual Image...')\n",
        "plt.imshow(img_test[idx])\n",
        "\n",
        "# ML recognized actual result\n",
        "actual_digit_classification_arr = digit_classification[idx]\n",
        "print('Recongized Classification : ', actual_digit_classification_arr)\n",
        "np_cls_arr = np.array(actual_digit_classification_arr)\n",
        "# Find the index of max probability i.e. the recognized digit\n",
        "# np.unravel_index() IS MAGICAL METHOD FROM NumPy!!!\n",
        "# Being only 1-d array, the max idex is single digit\n",
        "digit_index = np.unravel_index(np_cls_arr.argmax(), np_cls_arr.shape)\n",
        "actual_digit = digit_index\n",
        "# Find the probability of recongnized digit. IDEALLY, it should be close to one\n",
        "actual_digit_prob = np_cls_arr[digit_index]\n",
        "print('Probability of recongnized digit (should be ~1): ', actual_digit_prob)\n",
        "print('Recongized Digit =', actual_digit)\n",
        "\n",
        "if (expected_digit == actual_digit):\n",
        "  print('SUCCESS :-)')\n",
        "else:\n",
        "  print('Failure :-(')\n",
        "\n"
      ],
      "execution_count": 6,
      "outputs": [
        {
          "output_type": "stream",
          "text": [
            "Epoch 1/10\n",
            "60000/60000 [==============================] - 20s 338us/sample - loss: 0.2011 - acc: 0.9403\n",
            "Epoch 2/10\n",
            "60000/60000 [==============================] - 20s 336us/sample - loss: 0.0813 - acc: 0.9743\n",
            "Epoch 3/10\n",
            "60000/60000 [==============================] - 20s 332us/sample - loss: 0.0524 - acc: 0.9835\n",
            "Epoch 4/10\n",
            "60000/60000 [==============================] - 20s 333us/sample - loss: 0.0367 - acc: 0.9885\n",
            "Epoch 5/10\n",
            "59872/60000 [============================>.] - ETA: 0s - loss: 0.0266 - acc: 0.9913\n",
            "Reached 99% accuracy so cancelling training!\n",
            "60000/60000 [==============================] - 20s 331us/sample - loss: 0.0269 - acc: 0.9912\n",
            "10000/10000 [==============================] - 1s 83us/sample - loss: 0.0732 - acc: 0.9791\n",
            "Actual Digit = 6\n",
            "Actual Image...\n",
            "Recongized Classification :  [3.0768208e-09 5.0187752e-15 3.8868791e-12 2.3467497e-15 1.1544126e-10\n",
            " 1.3511936e-13 1.0000000e+00 6.9303206e-14 5.5293112e-09 1.8283706e-13]\n",
            "Probability of recongnized digit (should be ~1):  1.0\n",
            "Recongized Digit = (6,)\n",
            "SUCCESS :-)\n"
          ],
          "name": "stdout"
        },
        {
          "output_type": "display_data",
          "data": {
            "image/png": "[encoded data removed]",
            "text/plain": [
              "<Figure size 576x396 with 1 Axes>"
            ]
          },
          "metadata": {
            "tags": []
          }
        }
      ]
    }
  ]
}